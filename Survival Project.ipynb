{
 "cells": [
  {
   "cell_type": "markdown",
   "id": "e10997fd",
   "metadata": {},
   "source": [
    "# The objective of the project is to calculate the duration of how long a person lived based on his Age. The duration should be calculated in different time units like Months, Weeks, Days, Hours, Minutes, Seconds\n",
    "The input to the application is an Age of a person and the output is expected to calculate the duration of time he lived in different time units as selected by the user.\n"
   ]
  },
  {
   "cell_type": "code",
   "execution_count": 3,
   "id": "91677b49",
   "metadata": {},
   "outputs": [
    {
     "name": "stdout",
     "output_type": "stream",
     "text": [
      "Enter the age of the person in years: 56\n",
      "Enter the time duration: 0- Months, 1- Weeks, 2- Days, 3- Hours, 4-Minutes, 5- Seconds :5\n",
      "The time duration of survival is [672, 2889.6, 20227.2, 485452.80000000005, 29127168.000000004, 1747630080.0000002]\n",
      "1747630080.0000002\n"
     ]
    }
   ],
   "source": [
    "def survival(age, dur):\n",
    "    months = age*12\n",
    "    weeks = months*4.3\n",
    "    days = weeks*7\n",
    "    hours = days*24\n",
    "    minutes = hours*60\n",
    "    seconds = minutes*60\n",
    "    time = [months, weeks, days, hours, minutes, seconds]\n",
    "    print(\"The time duration of survival is\", time)\n",
    "    if(dur==0):\n",
    "        print(time[0])\n",
    "    elif(dur==1):\n",
    "        print(time[1])\n",
    "    elif(dur==2):\n",
    "        print(time[2])\n",
    "    elif(dur==3):\n",
    "        print(time[3])\n",
    "    elif(dur==4):\n",
    "        print(time[4])\n",
    "    elif(dur==5):\n",
    "        print(time[5])\n",
    "\n",
    "age = int(input(\"Enter the age of the person in years: \"))\n",
    "dur = int(input(\"Enter the time duration: 0- Months, 1- Weeks, 2- Days, 3- Hours, 4-Minutes, 5- Seconds :\"))\n",
    "#print(\"The age of the person is\", age, \"Years\")\n",
    "survival(age, dur)"
   ]
  },
  {
   "cell_type": "code",
   "execution_count": null,
   "id": "673ee4c0",
   "metadata": {},
   "outputs": [],
   "source": []
  },
  {
   "cell_type": "code",
   "execution_count": null,
   "id": "21cd2eef",
   "metadata": {},
   "outputs": [],
   "source": []
  },
  {
   "cell_type": "code",
   "execution_count": null,
   "id": "8bf81e3d",
   "metadata": {},
   "outputs": [],
   "source": []
  },
  {
   "cell_type": "code",
   "execution_count": null,
   "id": "7f11d9f2",
   "metadata": {},
   "outputs": [],
   "source": []
  },
  {
   "cell_type": "code",
   "execution_count": null,
   "id": "aac3b570",
   "metadata": {},
   "outputs": [],
   "source": []
  }
 ],
 "metadata": {
  "kernelspec": {
   "display_name": "Python 3 (ipykernel)",
   "language": "python",
   "name": "python3"
  },
  "language_info": {
   "codemirror_mode": {
    "name": "ipython",
    "version": 3
   },
   "file_extension": ".py",
   "mimetype": "text/x-python",
   "name": "python",
   "nbconvert_exporter": "python",
   "pygments_lexer": "ipython3",
   "version": "3.11.4"
  }
 },
 "nbformat": 4,
 "nbformat_minor": 5
}
