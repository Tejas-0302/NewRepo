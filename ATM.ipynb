{
 "cells": [
  {
   "cell_type": "code",
   "execution_count": null,
   "id": "2e9c2c8d",
   "metadata": {},
   "outputs": [],
   "source": []
  },
  {
   "cell_type": "code",
   "execution_count": 4,
   "id": "d31bdd88",
   "metadata": {},
   "outputs": [
    {
     "name": "stdout",
     "output_type": "stream",
     "text": [
      "Welcome to ATM\n",
      "Press 1 for Check Balance\n",
      "Press 2 for Withdrawal\n",
      "Press 3 for Deposit\n",
      "Press 4 for Exit\n",
      "Enter your pin: 1234\n",
      "Enter your option: 2\n",
      "Enter the amount to be withdrawn: 3000\n",
      "Not sufficient balance \n"
     ]
    }
   ],
   "source": [
    "#class ATM:\n",
    "def checkbalance(n,minbal,pin):\n",
    "    if(pin == 1234):\n",
    "        if(n==1):\n",
    "            print(\"The balance in your account is \", minbal)\n",
    "        elif(n==2):\n",
    "            withdraw= int(input((\"Enter the amount to be withdrawn: \")))\n",
    "            if(withdraw>minbal):\n",
    "                print(\"Not sufficient balance \")\n",
    "            else:\n",
    "                withdraw = minbal-withdraw\n",
    "                minbal=withdraw\n",
    "                print(\"The new balance is\", minbal)\n",
    "        elif(n==3):\n",
    "            deposit = int(input(\"Enter the amont to be deposited: \"))\n",
    "            minbal = minbal + deposit\n",
    "            print(\"The new balance is \", minbal)\n",
    "        elif(n==4):\n",
    "            print(\"Exiting system \")\n",
    "        else:\n",
    "            print(\"Please select a correct option: \")\n",
    "    else:\n",
    "        print(\"You have entered an invalid pin. Please enter the correct pin.\")\n",
    "        \n",
    "        \n",
    "\n",
    "print(\"Welcome to ATM\")\n",
    "print(\"Press 1 for Check Balance\")\n",
    "print(\"Press 2 for Withdrawal\")\n",
    "print(\"Press 3 for Deposit\")\n",
    "print(\"Press 4 for Exit\")\n",
    "\n",
    "pin = int(input(\"Enter your pin: \"))\n",
    "option= int(input(\"Enter your option: \"))\n",
    "minbal=1000\n",
    "checkbalance(option,minbal,pin)"
   ]
  },
  {
   "cell_type": "code",
   "execution_count": null,
   "id": "fed65333",
   "metadata": {},
   "outputs": [],
   "source": []
  },
  {
   "cell_type": "markdown",
   "id": "ee84b2ff",
   "metadata": {},
   "source": []
  },
  {
   "cell_type": "code",
   "execution_count": null,
   "id": "03912e97",
   "metadata": {},
   "outputs": [],
   "source": []
  },
  {
   "cell_type": "code",
   "execution_count": null,
   "id": "901832b6",
   "metadata": {},
   "outputs": [],
   "source": []
  },
  {
   "cell_type": "code",
   "execution_count": null,
   "id": "81a06acc",
   "metadata": {},
   "outputs": [],
   "source": []
  },
  {
   "cell_type": "code",
   "execution_count": null,
   "id": "5870e505",
   "metadata": {},
   "outputs": [],
   "source": []
  },
  {
   "cell_type": "code",
   "execution_count": null,
   "id": "f44aafa2",
   "metadata": {},
   "outputs": [],
   "source": []
  },
  {
   "cell_type": "code",
   "execution_count": null,
   "id": "d3de666d",
   "metadata": {},
   "outputs": [],
   "source": []
  },
  {
   "cell_type": "code",
   "execution_count": null,
   "id": "2772cc73",
   "metadata": {},
   "outputs": [],
   "source": []
  },
  {
   "cell_type": "code",
   "execution_count": null,
   "id": "cd4d13de",
   "metadata": {},
   "outputs": [],
   "source": []
  },
  {
   "cell_type": "code",
   "execution_count": null,
   "id": "da660a18",
   "metadata": {},
   "outputs": [],
   "source": []
  },
  {
   "cell_type": "code",
   "execution_count": null,
   "id": "0332cd98",
   "metadata": {},
   "outputs": [],
   "source": []
  }
 ],
 "metadata": {
  "kernelspec": {
   "display_name": "Python 3 (ipykernel)",
   "language": "python",
   "name": "python3"
  },
  "language_info": {
   "codemirror_mode": {
    "name": "ipython",
    "version": 3
   },
   "file_extension": ".py",
   "mimetype": "text/x-python",
   "name": "python",
   "nbconvert_exporter": "python",
   "pygments_lexer": "ipython3",
   "version": "3.11.4"
  }
 },
 "nbformat": 4,
 "nbformat_minor": 5
}
